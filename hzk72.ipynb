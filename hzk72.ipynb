{
 "cells": [
  {
   "cell_type": "code",
   "execution_count": 2,
   "id": "6158c0df",
   "metadata": {},
   "outputs": [
    {
     "name": "stdout",
     "output_type": "stream",
     "text": [
      "Hello, world\n",
      "Hello, world\n",
      "Hello, world\n",
      "Hello, world\n",
      "Hello, world\n",
      "Hello, world\n",
      "Hello, world\n",
      "Hello, world\n",
      "Hello, world\n",
      "Hello, world\n"
     ]
    }
   ],
   "source": [
    "#w2a21\n",
    "for i in range(10):\n",
    "    print(\"Hello, world\")\n",
    "\n",
    "\n"
   ]
  },
  {
   "cell_type": "code",
   "execution_count": 36,
   "id": "3710c76c",
   "metadata": {},
   "outputs": [
    {
     "name": "stdout",
     "output_type": "stream",
     "text": [
      "January\n",
      "February\n",
      "March\n",
      "April\n",
      "May\n",
      "June\n",
      "July\n",
      "August\n",
      "September\n",
      "October\n",
      "November\n",
      "December\n"
     ]
    }
   ],
   "source": [
    "#wa20\n",
    "import calendar\n",
    "for i in range (1,13):\n",
    "    print(calendar.month_name[i])\n"
   ]
  },
  {
   "cell_type": "code",
   "execution_count": 33,
   "id": "0b5bfe42",
   "metadata": {},
   "outputs": [
    {
     "name": "stdout",
     "output_type": "stream",
     "text": [
      "Monday\n",
      "Tuesday\n",
      "Wednesday\n",
      "Thursday\n",
      "Friday\n",
      "Saturday\n",
      "Sunday\n"
     ]
    }
   ],
   "source": [
    "#wa19\n",
    "import calendar\n",
    "for i in range(0,7):\n",
    "    print(calendar.day_name[i])\n"
   ]
  },
  {
   "cell_type": "code",
   "execution_count": 1,
   "id": "6529cee1",
   "metadata": {},
   "outputs": [
    {
     "name": "stdout",
     "output_type": "stream",
     "text": [
      "### ### ### ###\n",
      " #  # #  #   # \n",
      " #  # #  #   # \n",
      " #  # #  #   # \n",
      " #  ###  #   # \n"
     ]
    }
   ],
   "source": [
    "#Wa18\n",
    "T=[\"###\",\n",
    "   \" # \",\n",
    "   \" # \",\n",
    "   \" # \",\n",
    "   \" # \" ]\n",
    "\n",
    "D=[\"###\",\n",
    "   \"# #\",\n",
    "   \"# #\",\n",
    "   \"# #\",\n",
    "   \"###\"]\n",
    "for i in range(5):\n",
    "    print(f\"{T[i]} {D[i]} {T[i]} {T[i]}\")\n"
   ]
  },
  {
   "cell_type": "code",
   "execution_count": 89,
   "id": "c8e5f931",
   "metadata": {},
   "outputs": [
    {
     "name": "stdout",
     "output_type": "stream",
     "text": [
      "A= 512\n",
      "B= 512\n"
     ]
    }
   ],
   "source": [
    "#w2a7\n",
    "A = ((13 ** 2) * 3) + 5\n",
    "B = 13**2*3 + 5\n",
    "print(\"A=\",A)\n",
    "print(\"B=\",B)"
   ]
  },
  {
   "cell_type": "code",
   "execution_count": 59,
   "id": "8cfd9ef1",
   "metadata": {},
   "outputs": [
    {
     "name": "stdout",
     "output_type": "stream",
     "text": [
      "Kết quả nhiệt độ F: 96.8\n"
     ]
    }
   ],
   "source": [
    "#w2a8\n",
    "C=float(input(\"Nhiệt độ C:\"))\n",
    "F=(9/5)*C+32\n",
    "print(\"Kết quả nhiệt độ F:\",round(F,2))"
   ]
  },
  {
   "cell_type": "code",
   "execution_count": null,
   "id": "c0aca789",
   "metadata": {},
   "outputs": [
    {
     "name": "stdout",
     "output_type": "stream",
     "text": [
      "Tăng Thành Đạt\n",
      "Phạm Thị Hà\n",
      "Vũ Hương Giang\n"
     ]
    }
   ],
   "source": [
    "#w2a10\n",
    "a=input(\"Người thứ nhất:\")\n",
    "b=input(\"Người thứ hai:\")\n",
    "c=input(\"Người thứ ba:\")\n",
    "print(c)\n",
    "print(b)\n",
    "print(a)"
   ]
  },
  {
   "cell_type": "code",
   "execution_count": 30,
   "id": "1384a7e1",
   "metadata": {},
   "outputs": [
    {
     "name": "stdout",
     "output_type": "stream",
     "text": [
      "số giờ sang giây và số phút sang giây là : 3600 và 1800\n"
     ]
    }
   ],
   "source": [
    "#w2a11\n",
    "a=int(input(\"Nhập số giờ=\"))\n",
    "b=int(input(\"Nhập số phút=\"))\n",
    "c=a*3600\n",
    "d=b*60\n",
    "print(\"số giờ sang giây và số phút sang giây là :\",c ,\"và\", d)"
   ]
  },
  {
   "cell_type": "code",
   "execution_count": 47,
   "id": "7d05d5ac",
   "metadata": {},
   "outputs": [
    {
     "name": "stdout",
     "output_type": "stream",
     "text": [
      "Tổng số miếng dán riêng lẻ cần là: 24\n"
     ]
    }
   ],
   "source": [
    "#w2a12\n",
    "n=int(input(\"Nhập độ dài cạnh Rubik:\"))\n",
    "so_mieng_dan= 6*n**2\n",
    "print(\"Tổng số miếng dán riêng lẻ cần là:\",so_mieng_dan)\n"
   ]
  },
  {
   "cell_type": "code",
   "execution_count": 52,
   "id": "02bbfc68",
   "metadata": {},
   "outputs": [
    {
     "name": "stdout",
     "output_type": "stream",
     "text": [
      "Hàng đơn vị của tích a*b là: 0\n"
     ]
    }
   ],
   "source": [
    "#W2a13\n",
    "a=int(input(\"Nhập giá trị nguyên dương của a:\"))\n",
    "b=int(input(\"Nhập giá trị nguyên dương của b:\"))\n",
    "tich=a*b\n",
    "hang_don_vi=tich % 10\n",
    "print(\"Hàng đơn vị của tích a*b là:\",hang_don_vi) \n",
    "\n"
   ]
  },
  {
   "cell_type": "code",
   "execution_count": 53,
   "id": "ac987a5b",
   "metadata": {},
   "outputs": [
    {
     "name": "stdout",
     "output_type": "stream",
     "text": [
      "Sau hoán đổi a= 2\n",
      "Sau hoán đổi b= 5\n"
     ]
    }
   ],
   "source": [
    "#w2a14\n",
    "a=int(input(\"Nhập giá trị a:\"))\n",
    "b=int(input(\"Nhập giá trị b:\"))\n",
    "a,b=b,a \n",
    "print(\"Sau hoán đổi a=\",a)\n",
    "print(\"Sau hoán đổi b=\",b)"
   ]
  },
  {
   "cell_type": "code",
   "execution_count": 54,
   "id": "5257f686",
   "metadata": {},
   "outputs": [
    {
     "name": "stdout",
     "output_type": "stream",
     "text": [
      "Số sao thứ 2 là: 13\n"
     ]
    }
   ],
   "source": [
    "#w2a15\n",
    "n = int(input(\"Nhập số nguyên dương n: \"))\n",
    "so_sao = 6 * n * (n - 1) + 1\n",
    "print(\"Số sao thứ\", n, \"là:\", so_sao)"
   ]
  },
  {
   "cell_type": "code",
   "execution_count": 55,
   "id": "8b690d03",
   "metadata": {},
   "outputs": [
    {
     "name": "stdout",
     "output_type": "stream",
     "text": [
      "Xin Chào Vũ Tiến Đạt\n"
     ]
    }
   ],
   "source": [
    "#w2a2\n",
    "ten=input(\"Nhập tên người:\")\n",
    "print(\"Xin Chào\",ten)"
   ]
  },
  {
   "cell_type": "code",
   "execution_count": 85,
   "id": "a0a990e4",
   "metadata": {},
   "outputs": [
    {
     "name": "stdout",
     "output_type": "stream",
     "text": [
      "Tổng a+b= 10\n",
      "Hiệu a-b= 4\n",
      "Tích a*b= 21\n",
      "Kết quả lấy nguyên a//b = 2\n",
      "Kết quả lấy dư a%b= 1\n",
      "Kết quả thực a/b= 2.33\n"
     ]
    }
   ],
   "source": [
    "#w2a3\n",
    "a=int(input(\"Nhập giá trị a:\"))\n",
    "b=int(input(\"Nhập giá trị b:\"))\n",
    "tong=a+b \n",
    "hieu=a-b \n",
    "tich=a*b \n",
    "phan_nguyen=a//b \n",
    "phan_du=a%b \n",
    "chia_thuc=a/b \n",
    "print(\"Tổng a+b=\",tong)\n",
    "print(\"Hiệu a-b=\",hieu)\n",
    "print(\"Tích a*b=\",tich)\n",
    "print(\"Kết quả lấy nguyên a//b =\",phan_nguyen)  \n",
    "print(\"Kết quả lấy dư a%b=\",phan_du) \n",
    "print(f\"Kết quả thực a/b= {chia_thuc:.2f}\")   "
   ]
  },
  {
   "cell_type": "code",
   "execution_count": 68,
   "id": "a421c316",
   "metadata": {},
   "outputs": [
    {
     "name": "stdout",
     "output_type": "stream",
     "text": [
      "Kết quả a**b= 25\n"
     ]
    }
   ],
   "source": [
    "#w2a5\n",
    "a,b=map(int,input(\"Nhập hai số a và b,cách nhau bởi dấu cách:\").split())\n",
    "F=a**b \n",
    "print(\"Kết quả a**b=\",F)"
   ]
  },
  {
   "cell_type": "code",
   "execution_count": 71,
   "id": "85bf8c88",
   "metadata": {},
   "outputs": [
    {
     "name": "stdout",
     "output_type": "stream",
     "text": [
      "  *\n",
      " ***\n",
      "*****\n"
     ]
    }
   ],
   "source": [
    "#w2a17\n",
    "print(\"  *\")\n",
    "print(\" ***\")\n",
    "print(\"*****\")"
   ]
  },
  {
   "cell_type": "code",
   "execution_count": 73,
   "id": "55e80b8e",
   "metadata": {},
   "outputs": [
    {
     "name": "stdout",
     "output_type": "stream",
     "text": [
      "Điểm trung bình là: 4.2\n"
     ]
    }
   ],
   "source": [
    "#w2a4\n",
    "a1, b1, c1, a2, b2, a3 = map(float, input(\"Nhập 6 điểm cách nhau bởi dấu cách: \").split())\n",
    "tb = ((a1 + b1 + c1) + (a2 + b2) * 2 + a3 * 3) / 10\n",
    "print(\"Điểm trung bình là: {:.1f}\".format(tb))"
   ]
  },
  {
   "cell_type": "code",
   "execution_count": 74,
   "id": "f2fc02bc",
   "metadata": {},
   "outputs": [
    {
     "name": "stdout",
     "output_type": "stream",
     "text": [
      "Mã Unicode của ký tự là: 98\n",
      "Ký tự hoa tương ứng là: B\n"
     ]
    }
   ],
   "source": [
    "#w2a6\n",
    "char = input(\"Nhập một ký tự chữ cái thường (a-z): \")\n",
    "ma_unicode = ord(char)\n",
    "print(\"Mã Unicode của ký tự là:\", ma_unicode)\n",
    "char_hoa = chr(ma_unicode - 32)\n",
    "print(\"Ký tự hoa tương ứng là:\", char_hoa)"
   ]
  },
  {
   "cell_type": "code",
   "execution_count": null,
   "id": "859b5b1e",
   "metadata": {},
   "outputs": [
    {
     "name": "stdout",
     "output_type": "stream",
     "text": [
      "Hello World!\n"
     ]
    }
   ],
   "source": [
    "#2a1\n",
    "print(\"Hello World!\")"
   ]
  },
  {
   "cell_type": "code",
   "execution_count": 81,
   "id": "eae443b4",
   "metadata": {},
   "outputs": [
    {
     "name": "stdout",
     "output_type": "stream",
     "text": [
      "Tổng số tiền phải trả là: 38.00 USD\n"
     ]
    }
   ],
   "source": [
    "#2a9\n",
    "x=int(input(\"Nhập giá tiền của x:\"))\n",
    "tong_tien=10+0.4*x+x\n",
    "print(f\"Tổng số tiền phải trả là: {tong_tien:.2f} USD\")"
   ]
  },
  {
   "cell_type": "code",
   "execution_count": 82,
   "id": "6764b5f0",
   "metadata": {},
   "outputs": [
    {
     "name": "stdout",
     "output_type": "stream",
     "text": [
      "Spring\n",
      "Summer\n",
      "Autumn\n",
      "Winter\n"
     ]
    }
   ],
   "source": [
    "#w2a16\n",
    "print(\"Spring\")\n",
    "print(\"Summer\")\n",
    "print(\"Autumn\")\n",
    "print(\"Winter\")"
   ]
  }
 ],
 "metadata": {
  "kernelspec": {
   "display_name": "Python 3",
   "language": "python",
   "name": "python3"
  },
  "language_info": {
   "codemirror_mode": {
    "name": "ipython",
    "version": 3
   },
   "file_extension": ".py",
   "mimetype": "text/x-python",
   "name": "python",
   "nbconvert_exporter": "python",
   "pygments_lexer": "ipython3",
   "version": "3.13.7"
  }
 },
 "nbformat": 4,
 "nbformat_minor": 5
}
