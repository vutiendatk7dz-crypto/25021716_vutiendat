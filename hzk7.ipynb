{
 "cells": [
  {
   "cell_type": "code",
   "execution_count": 1,
   "id": "385ccc20-6745-491b-ae33-d1f0837abe2e",
   "metadata": {},
   "outputs": [
    {
     "name": "stdout",
     "output_type": "stream",
     "text": [
      "2\n"
     ]
    }
   ],
   "source": [
    "#w1a1\n",
    "a=7\n",
    "b=5\n",
    "c=a-b\n",
    "print(c)\n",
    "a = 7\n",
    "\n",
    "Ý nghĩa: Gán giá trị số nguyên 7 cho biến a.\n",
    "\n",
    "Giải thích: Biến a giờ đây đại diện cho số 7 trong chương trình.\n",
    "\n",
    "2. b = 5\n",
    "\n",
    "Ý nghĩa: Gán giá trị số nguyên 5 cho biến b.\n",
    "\n",
    "Giải thích: Biến b giờ đây đại diện cho số 5.\n",
    "\n",
    "3. c = a - b\n",
    "\n",
    "Ý nghĩa: Tính hiệu của biến a và b, sau đó gán kết quả cho biến c.\n",
    "\n",
    "Giải thích:\n",
    "\n",
    "Lấy giá trị của a (7),\n",
    "\n",
    "Lấy giá trị của b (5),\n",
    "\n",
    "Thực hiện phép trừ 7 - 5 = 2,\n",
    "\n",
    "Gán kết quả 2 cho biến c.\n",
    "\n",
    "4. print(c)\n",
    "\n",
    "Ý nghĩa: In giá trị của biến c ra màn hình.\n",
    "\n",
    "Giải thích:\n",
    "\n",
    "Lệnh print() sẽ xuất giá trị hiện tại của c, là 2,\n",
    "\n",
    "Kết quả được hiển thị cho người dùng hoặc console."
   ]
  },
  {
   "cell_type": "code",
   "execution_count": 2,
   "id": "098e10e1-7f2c-4e0e-a199-e79fbd12e27a",
   "metadata": {},
   "outputs": [
    {
     "name": "stdout",
     "output_type": "stream",
     "text": [
      "Thanh Pho: Ha Noi -Năm: 2025\n"
     ]
    }
   ],
   "source": [
    "#w1a2\n",
    "city=\"Ha Noi\"\n",
    "year=2025\n",
    "print(\"Thanh Pho:\",city,\"-Năm:\",year)\n",
    "city = \"Hà Nội\"\n",
    "\n",
    "1.Gán chuỗi \"Hà Nội\" cho biến có tên city.\n",
    "\n",
    "Biến city bây giờ chứa giá trị \"Hà Nội\".\n",
    "\n",
    "Chuỗi là một dãy các ký tự được đặt trong dấu ngoặc kép (\").\n",
    "\n",
    "2. year = 2025\n",
    "\n",
    "Gán số nguyên 2025 cho biến có tên year.\n",
    "\n",
    "Biến year bây giờ chứa giá trị số 2025.\n",
    "\n",
    "3. print(\"Thành phố: \", city, \" - Năm: \", year)\n",
    "\n",
    "Lệnh print sẽ in ra màn hình các giá trị được truyền vào, phân tách bằng dấu phẩy.\n",
    "\n",
    "In ra chuỗi \"Thành phố: \".\n",
    "\n",
    "Tiếp theo in giá trị biến city (ở đây là \"Hà Nội\").\n",
    "\n",
    "Sau đó in chuỗi \" - Năm: \".\n",
    "\n",
    "Cuối cùng in giá trị biến year (2025).\n",
    "\n",
    "Các phần được in cách nhau bởi dấu cách tự động do dấu phẩy trong print."
   ]
  },
  {
   "cell_type": "code",
   "execution_count": 4,
   "id": "89ac44b3-7221-4260-b88c-0ac5fb5c91a5",
   "metadata": {},
   "outputs": [
    {
     "name": "stdout",
     "output_type": "stream",
     "text": [
      "10\n"
     ]
    }
   ],
   "source": [
    "#w1a3\n",
    "n=4\n",
    "t=0\n",
    "for i in range(1,n+1):\n",
    "    t+=i\n",
    "print(t)\n",
    "  1. n = 4\n",
    "\n",
    "Chức năng: Gán giá trị 4 cho biến n.\n",
    "\n",
    "Ý nghĩa: n đại diện cho số nguyên 4, dùng để xác định phạm vi của vòng lặp.\n",
    "\n",
    "2. t = 0\n",
    "\n",
    "Chức năng: Khởi tạo biến t với giá trị 0.\n",
    "\n",
    "Ý nghĩa: t sẽ được dùng để lưu tổng các số từ vòng lặp, ban đầu bằng 0.\n",
    "\n",
    "3. for i in range(1, n+1):\n",
    "\n",
    "Chức năng: Bắt đầu vòng lặp for với biến i chạy từ 1 đến n (bao gồm n).\n",
    "\n",
    "Ý nghĩa:\n",
    "\n",
    "range(1, n+1) tạo ra dãy số [1, 2, 3, 4].\n",
    "\n",
    "Vòng lặp sẽ thực hiện các câu lệnh bên trong với từng giá trị của i lần lượt là 1, 2, 3, 4.\n",
    "\n",
    "4. t += i\n",
    "\n",
    "Chức năng: Cộng giá trị hiện tại của i vào biến t.\n",
    "\n",
    "Ý nghĩa:\n",
    "\n",
    "Đây là viết tắt của t = t + i.\n",
    "\n",
    "Mỗi lần lặp, giá trị của i sẽ được cộng vào biến t, cập nhật tổng dần dần.\n",
    "\n",
    "5. print(t)\n",
    "\n",
    "Chức năng: In giá trị của biến t ra màn hình.\n",
    "\n",
    "Ý nghĩa:\n",
    "\n",
    "Sau khi vòng lặp kết thúc (tổng các số từ 1 đến 4 được tính), lệnh print sẽ xuất ra tổng đó.  "
   ]
  },
  {
   "cell_type": "code",
   "execution_count": 7,
   "id": "c1a5e873-f633-4cbf-b3b1-be371949cfd9",
   "metadata": {},
   "outputs": [
    {
     "name": "stdout",
     "output_type": "stream",
     "text": [
      "1 là số lẻ\n",
      "2 là số chẵn\n",
      "3 là số lẻ\n",
      "4 là số chẵn\n"
     ]
    }
   ],
   "source": [
    "#w1a4\n",
    "numbers=[1,2,3,4]\n",
    "for x in numbers:\n",
    "    if x % 2==0:\n",
    "        print(x,\"là số chẵn\")\n",
    "    else:\n",
    "        print(x,\"là số lẻ\")\n",
    "    1. numbers = [1, 2, 3, 4]\n",
    "\n",
    "Chức năng: Tạo một danh sách (list) chứa các số nguyên 1, 2, 3, và 4.\n",
    "\n",
    "Ý nghĩa: Danh sách này sẽ được dùng để duyệt qua từng phần tử.\n",
    "\n",
    "2. for x in numbers:\n",
    "\n",
    "Chức năng: Bắt đầu một vòng lặp, trong đó biến x sẽ lần lượt nhận giá trị của từng phần tử trong danh sách numbers.\n",
    "\n",
    "Ý nghĩa: Vòng lặp sẽ chạy 4 lần, với x lần lượt là 1, 2, 3, và 4.\n",
    "\n",
    "3. if x % 2 == 0:\n",
    "\n",
    "Chức năng: Kiểm tra xem phần tử hiện tại x có phải là số chẵn không.\n",
    "\n",
    "Ý nghĩa:\n",
    "\n",
    "x % 2 là phép lấy phần dư khi x chia cho 2.\n",
    "\n",
    "Nếu phần dư bằng 0 (== 0), nghĩa là x là số chẵn.\n",
    "\n",
    "4. print(x, \"là số chẵn\")\n",
    "\n",
    "Chức năng: In ra thông báo rằng số x là số chẵn.\n",
    "\n",
    "Ý nghĩa: Lệnh này chỉ được thực hiện khi điều kiện if là đúng.\n",
    "\n",
    "5. else:\n",
    "\n",
    "Chức năng: Định nghĩa khối lệnh sẽ được thực hiện khi điều kiện if không đúng.\n",
    "\n",
    "Ý nghĩa: Nghĩa là khi x không phải là số chẵn (tức là số lẻ).\n",
    "\n",
    "6. print(x, \"là số lẻ\")\n",
    "\n",
    "Chức năng: In ra thông báo rằng số x là số lẻ.\n",
    "\n",
    "Ý nghĩa: Lệnh này được thực hiện khi x không thỏa điều kiện số chẵn."
   ]
  },
  {
   "cell_type": "code",
   "execution_count": 9,
   "id": "b0f3bfb2-500a-4853-832f-b19cf82ea6e4",
   "metadata": {},
   "outputs": [
    {
     "name": "stdout",
     "output_type": "stream",
     "text": [
      "Số phần tử trong danh sách là: 4\n"
     ]
    }
   ],
   "source": [
    "#w1a5\n",
    "animals = [\"cat\", \"dog\", \"cat\", \"bird\"]\n",
    "count = 0\n",
    "for a in animals:\n",
    "    count += 1\n",
    "print(\"Số phần tử trong danh sách là:\", count)\n",
    "1. animals = [\"cat\", \"dog\", \"cat\", \"bird\"]\n",
    "\n",
    "Chức năng: Tạo một danh sách (list) có tên animals chứa 4 phần tử: \"cat\", \"dog\", \"cat\", và \"bird\".\n",
    "\n",
    "Ý nghĩa: Danh sách này lưu trữ các tên động vật mà ta muốn xử lý.\n",
    "\n",
    "2. count = 0\n",
    "\n",
    "Chức năng: Khởi tạo biến count với giá trị 0.\n",
    "\n",
    "Ý nghĩa: Biến count được dùng để đếm số phần tử trong danh sách animals.\n",
    "\n",
    "3. for a in animals:\n",
    "\n",
    "Chức năng: Bắt đầu một vòng lặp for, trong đó biến a sẽ lần lượt nhận giá trị của từng phần tử trong danh sách animals.\n",
    "\n",
    "Ý nghĩa: Vòng lặp sẽ chạy 4 lần, tương ứng với 4 phần tử trong danh sách.\n",
    "\n",
    "4. count += 1\n",
    "\n",
    "Chức năng: Tăng giá trị của biến count lên 1 mỗi lần vòng lặp chạy.\n",
    "\n",
    "Ý nghĩa: Mỗi lần duyệt một phần tử trong danh sách, biến count tăng lên để đếm tổng số phần tử đã duyệt.\n",
    "\n",
    "5. print(\"Số phần tử trong danh sách là:\", count)\n",
    "\n",
    "Chức năng: In ra thông báo kèm theo giá trị hiện tại của biến count.\n",
    "\n",
    "Ý nghĩa: Sau khi vòng lặp kết thúc, biến count sẽ chứa tổng số phần tử trong danh sách, và câu lệnh này sẽ hiển thị kết quả đó."
   ]
  },
  {
   "cell_type": "code",
   "execution_count": 11,
   "id": "c3b5b93f-25c2-49df-a6a3-27db912337b5",
   "metadata": {},
   "outputs": [
    {
     "name": "stdout",
     "output_type": "stream",
     "text": [
      "\n",
      "=== AI Prediction System ===\n",
      "1) Phân tích cảm xúc\n",
      "2) Dự báo thời tiết\n",
      "3) Thoát\n"
     ]
    },
    {
     "name": "stdin",
     "output_type": "stream",
     "text": [
      "Vui lòng chọn một tùy chọn (1-3):  2\n",
      "Nhập tên thành phố hoặc địa điểm:  Hà Nội\n"
     ]
    },
    {
     "name": "stdout",
     "output_type": "stream",
     "text": [
      "Đang lấy dự báo thời tiết cho: Hà Nội\n",
      "Thời tiết: Nắng, 28°C (ví dụ)\n",
      "\n",
      "=== AI Prediction System ===\n",
      "1) Phân tích cảm xúc\n",
      "2) Dự báo thời tiết\n",
      "3) Thoát\n"
     ]
    },
    {
     "name": "stdin",
     "output_type": "stream",
     "text": [
      "Vui lòng chọn một tùy chọn (1-3):  3\n"
     ]
    },
    {
     "name": "stdout",
     "output_type": "stream",
     "text": [
      "Thoát khỏi hệ thống. Tạm biệt!\n"
     ]
    }
   ],
   "source": [
    "#w1a6\n",
    "def sentiment_analysis():\n",
    "    text = input(\"Nhập một câu để phân tích cảm xúc: \")\n",
    "    # Đây là chỗ để bạn tích hợp mô hình phân tích cảm xúc\n",
    "    print(f\"Đang phân tích cảm xúc cho: \\\"{text}\\\"\")\n",
    "    print(\"Kết quả cảm xúc: Tích cực (ví dụ)\")\n",
    "\n",
    "def weather_forecast():\n",
    "    location = input(\"Nhập tên thành phố hoặc địa điểm: \")\n",
    "    # Đây là chỗ để bạn tích hợp API dự báo thời tiết\n",
    "    print(f\"Đang lấy dự báo thời tiết cho: {location}\")\n",
    "    print(\"Thời tiết: Nắng, 28°C (ví dụ)\")\n",
    "\n",
    "def main():\n",
    "    while True:\n",
    "        print(\"\\n=== AI Prediction System ===\")\n",
    "        print(\"1) Phân tích cảm xúc\")\n",
    "        print(\"2) Dự báo thời tiết\")\n",
    "        print(\"3) Thoát\")\n",
    "        choice = input(\"Vui lòng chọn một tùy chọn (1-3): \")\n",
    "\n",
    "        if choice == \"1\":\n",
    "            sentiment_analysis()\n",
    "        elif choice == \"2\":\n",
    "            weather_forecast()\n",
    "        elif choice == \"3\":\n",
    "            print(\"Thoát khỏi hệ thống. Tạm biệt!\")\n",
    "            break\n",
    "        else:\n",
    "            print(\"Tùy chọn không hợp lệ. Vui lòng chọn lại.\")\n",
    "\n",
    "if __name__ == \"__main__\":\n",
    "    main()\n",
    "    1. Các dòng print(...)\n",
    "\n",
    "In ra menu với các lựa chọn cho người dùng:\n",
    "\n",
    "Dòng đầu: tiêu đề \"=== AI Prediction System ===\".\n",
    "\n",
    "Dòng 2-4: 3 tùy chọn cho người dùng:\n",
    "\n",
    "Phân tích cảm xúc\n",
    "\n",
    "Dự báo thời tiết\n",
    "\n",
    "Thoát chương trình\n",
    "\n",
    "2. choice = input(\"Please choose an option: \")\n",
    "\n",
    "Hiển thị câu hỏi \"Please choose an option: \" trên màn hình,\n",
    "\n",
    "Đợi người dùng nhập một chuỗi (string) từ bàn phím,\n",
    "\n",
    "Gán chuỗi đó vào biến choice.\n",
    "\n",
    "3. Khối if-elif-else xử lý giá trị nhập choice:\n",
    "\n",
    "if choice == '1':\n",
    "Nếu người dùng nhập \"1\", in ra \"Bạn chọn phân tích cảm xúc (Sentiment analysis).\"\n",
    "\n",
    "elif choice == '2':\n",
    "Nếu nhập \"2\", in ra \"Bạn chọn dự báo thời tiết (Weather forecast).\"\n",
    "\n",
    "elif choice == '3':\n",
    "Nếu nhập \"3\", in ra \"Thoát chương trình.\"\n",
    "\n",
    "else:\n",
    "Nếu nhập bất kỳ gì khác, in ra \"Lựa chọn không hợp lệ, vui lòng chọn lại.\"\n",
    "\n",
    "Vì sao có kết quả như vậy?\n",
    "\n",
    "Vì chương trình đọc chuỗi nhập từ người dùng và so sánh chính xác chuỗi đó với '1', '2', hoặc '3'.\n",
    "\n",
    "Tuỳ vào lựa chọn đúng, chương trình sẽ in thông báo tương ứng.\n",
    "\n",
    "Nếu lựa chọn không khớp, báo lỗi.\n",
    "\n",
    "Ví dụ:\n",
    "\n",
    "Người dùng nhập 1 → in: \"Bạn chọn phân tích cảm xúc (Sentiment analysis).\"\n",
    "\n",
    "Người dùng nhập 5 → in: \"Lựa chọn không hợp lệ, vui lòng chọn lại.\""
   ]
  },
  {
   "cell_type": "code",
   "execution_count": 12,
   "id": "82b452e4-7b6b-4ac5-aef5-994bc06b4b98",
   "metadata": {},
   "outputs": [
    {
     "name": "stdin",
     "output_type": "stream",
     "text": [
      "Nhập số:  4\n"
     ]
    },
    {
     "name": "stdout",
     "output_type": "stream",
     "text": [
      "Số chẵn\n"
     ]
    }
   ],
   "source": [
    "#w1a7\n",
    "num = int(input(\"Nhập số: \"))\n",
    "\n",
    "if num % 2 == 0:\n",
    "    print(\"Số chẵn\")\n",
    "else:\n",
    "    print(\"Số lẻ\")"
   ]
  },
  {
   "cell_type": "code",
   "execution_count": 13,
   "id": "d75900f5-698f-41b0-b2cf-aaae18cbd9ae",
   "metadata": {},
   "outputs": [
    {
     "name": "stdout",
     "output_type": "stream",
     "text": [
      "AI đang học lần 1\n",
      "AI đang học lần 2\n",
      "AI đang học lần 3\n",
      "Huấn luyện xong!\n"
     ]
    }
   ],
   "source": [
    "#w1a8\n",
    "for i in range(3):\n",
    "    print(\"AI đang học lần\", i + 1)\n",
    "print(\"Huấn luyện xong!\")\n",
    "1. Vòng lặp for i in range(3):\n",
    "\n",
    "range(3) tạo ra dãy số: 0, 1, 2\n",
    "\n",
    "Vòng lặp chạy 3 lần với i lần lượt là 0, 1, 2.\n",
    "\n",
    "2. Lệnh print(\"AI đang học lần\", i + 1)\n",
    "\n",
    "Mỗi lần lặp, chương trình in ra dòng:\n",
    "\"AI đang học lần\" kèm số lần học hiện tại là i + 1 (bởi vì i bắt đầu từ 0, nên cộng thêm 1 để đếm từ 1 đến 3).\n",
    "\n",
    "Vì vậy, nó sẽ in:\n",
    "\n",
    "AI đang học lần 1 (khi i=0)\n",
    "\n",
    "AI đang học lần 2 (khi i=1)\n",
    "\n",
    "AI đang học lần 3 (khi i=2)\n",
    "\n",
    "3. Lệnh print(\"Huấn luyện xong!\")\n",
    "\n",
    "Lệnh này không nằm trong vòng lặp vì không được thụt vào bên trong.\n",
    "\n",
    "Nên chỉ được in 1 lần duy nhất sau khi vòng lặp hoàn thành.\n",
    "\n",
    "Tổng kết kết quả in ra:\n",
    "AI đang học lần 1\n",
    "AI đang học lần 2\n",
    "AI đang học lần 3\n",
    "Huấn luyện xong!\n",
    "\n",
    "Tóm lại:\n",
    "\n",
    "Các dòng \"AI đang học lần ...\" được in mỗi lần trong vòng lặp (3 lần).\n",
    "\n",
    "Dòng \"Huấn luyện xong!\" in ra 1 lần sau khi vòng lặp kết thúc."
   ]
  },
  {
   "cell_type": "code",
   "execution_count": 14,
   "id": "4e8e5721-758a-44eb-9144-9a78e3961045",
   "metadata": {},
   "outputs": [
    {
     "name": "stdout",
     "output_type": "stream",
     "text": [
      "Dự đoán con vật: cat\n",
      "Dự đoán con vật: dog\n",
      "Dự đoán con vật: fish\n"
     ]
    }
   ],
   "source": [
    "#w1a9\n",
    "for x in [\"cat\", \"dog\", \"fish\"]:\n",
    "    print(\"Dự đoán con vật:\", x)\n",
    "    Giải thích:\n",
    "\n",
    "Vòng lặp for chạy 3 lần, với x lần lượt là \"cat\", \"dog\", \"fish\".\n",
    "\n",
    "Mỗi lần lặp, câu lệnh print in ra dòng:\n",
    "\"Dự đoán con vật: <tên con vật>\"\n",
    "\n",
    "Kết quả in ra:\n",
    "Dự đoán con vật: cat\n",
    "Dự đoán con vật: dog\n",
    "Dự đoán con vật: fish\n",
    "\n",
    "\n",
    "Nói cách khác, chương trình in 3 dòng thông báo, mỗi dòng cho một con vật trong danh sách."
   ]
  },
  {
   "cell_type": "code",
   "execution_count": 15,
   "id": "06cb002e-a512-423c-8846-2ccb8267f75e",
   "metadata": {},
   "outputs": [
    {
     "name": "stdout",
     "output_type": "stream",
     "text": [
      "=== AI Prediction System ===\n",
      "1) Sentiment analysis\n",
      "2) Weather forecast\n",
      "3) Exit\n",
      "Please choose an option:\n"
     ]
    }
   ],
   "source": [
    "#w1a10\n",
    "# Simple menu\n",
    "print(\"=== AI Prediction System ===\")\n",
    "print(\"1) Sentiment analysis\")\n",
    "print(\"2) Weather forecast\")\n",
    "print(\"3) Exit\")\n",
    "print(\"Please choose an option:\")\n",
    "Các lỗi chi tiết:\n",
    "\n",
    "print \"=== AI Prediction System ===\"\n",
    "\n",
    "Ở Python 3, print phải dùng dấu ngoặc tròn:\n",
    "-> print(\"=== AI Prediction System ===\")\n",
    "\n",
    "print(\"1) Sentiment analysis\"\n",
    "\n",
    "Thiếu dấu đóng ngoặc tròn ) cuối dòng.\n",
    "\n",
    "print(\"2) Weather forecast\"))\n",
    "\n",
    "Thừa một dấu đóng ngoặc tròn ). Chỉ cần một dấu đóng thôi.\n",
    "\n",
    "print('3) Exit'\n",
    "\n",
    "Thiếu dấu đóng ngoặc tròn ) cuối dòng."
   ]
  },
  {
   "cell_type": "code",
   "execution_count": null,
   "id": "dde80920-c512-4cce-b28b-a7c435fc81a6",
   "metadata": {},
   "outputs": [],
   "source": []
  }
 ],
 "metadata": {
  "kernelspec": {
   "display_name": "Python 3 (ipykernel)",
   "language": "python",
   "name": "python3"
  },
  "language_info": {
   "codemirror_mode": {
    "name": "ipython",
    "version": 3
   },
   "file_extension": ".py",
   "mimetype": "text/x-python",
   "name": "python",
   "nbconvert_exporter": "python",
   "pygments_lexer": "ipython3",
   "version": "3.13.7"
  }
 },
 "nbformat": 4,
 "nbformat_minor": 5
}
