{
 "cells": [
  {
   "cell_type": "code",
   "execution_count": null,
   "id": "e7c8f23e-6338-4bcd-a2e9-97947f02729d",
   "metadata": {},
   "outputs": [],
   "source": [
    "CÂU ĐIỀU KIỆN IF-ELSE"
   ]
  },
  {
   "cell_type": "code",
   "execution_count": 1,
   "id": "250410d3-cdb8-4e09-b60f-a7525e3ef5dc",
   "metadata": {
    "jupyter": {
     "source_hidden": true
    }
   },
   "outputs": [
    {
     "name": "stdin",
     "output_type": "stream",
     "text": [
      "Nhập vào chiều rộng: 2\n",
      "Nhập vào chiều dài : 4\n"
     ]
    },
    {
     "name": "stdout",
     "output_type": "stream",
     "text": [
      "Diện tích của hcn= 8.0\n",
      "Chu vi của hcn= 12.0\n"
     ]
    }
   ],
   "source": [
    "#Bài 1: Nhập vào 2 cạnh của một hình chữ nhật. In ra màn hình diện tích và chu vi của nó.\n",
    "a=float(input(\"Nhập vào chiều rộng:\"))\n",
    "b=float(input(\"Nhập vào chiều dài :\"))\n",
    "dien_tich=a*b\n",
    "chu_vi=(a+b)*2\n",
    "print(\"Diện tích của hcn=\",dien_tich)\n",
    "print(\"Chu vi của hcn=\",chu_vi)\n"
   ]
  },
  {
   "cell_type": "code",
   "execution_count": 2,
   "id": "ae6ef299-388b-4e4d-a710-186a186daa42",
   "metadata": {},
   "outputs": [
    {
     "name": "stdin",
     "output_type": "stream",
     "text": [
      "Nhập các giá trị độ dài của hcn: 2 4\n"
     ]
    },
    {
     "name": "stdout",
     "output_type": "stream",
     "text": [
      "Diện tích của hcn= 8.0\n",
      "Chu vi của hcn= 12.0\n"
     ]
    }
   ],
   "source": [
    "#Bài 1: Nhập vào 2 cạnh của một hình chữ nhật. In ra màn hình diện tích và chu vi của nó.\n",
    "a,b=map(float,input(\"Nhập các giá trị độ dài của hcn:\").split())\n",
    "dien_tich=a*b\n",
    "chu_vi=(a+b)*2\n",
    "print(\"Diện tích của hcn=\",dien_tich)\n",
    "print(\"Chu vi của hcn=\",chu_vi)"
   ]
  },
  {
   "cell_type": "code",
   "execution_count": 9,
   "id": "85d48b4d-3696-4588-a3a5-4533b42aa167",
   "metadata": {},
   "outputs": [
    {
     "name": "stdin",
     "output_type": "stream",
     "text": [
      "Bán kính hình tròn: 2.1\n"
     ]
    },
    {
     "name": "stdout",
     "output_type": "stream",
     "text": [
      "13.8474\n",
      "13.188\n"
     ]
    }
   ],
   "source": [
    "#Bài 2: Nhập vào bán kính của hình tròn. In ra màn hình diện tích và chu vi của nó.\n",
    "a=float(input(\"Bán kính hình tròn:\"))\n",
    "dien_tich=3.14*a**2\n",
    "chu_vi=2*3.14*a\n",
    "print(dien_tich)\n",
    "print(chu_vi)\n",
    "\n",
    "\n",
    "  "
   ]
  },
  {
   "cell_type": "code",
   "execution_count": 10,
   "id": "5b1e6306-1846-4922-8581-7ca3b6070029",
   "metadata": {},
   "outputs": [
    {
     "name": "stdin",
     "output_type": "stream",
     "text": [
      "Bán kính hình tròn: 2.1\n"
     ]
    },
    {
     "name": "stdout",
     "output_type": "stream",
     "text": [
      "13.854423602330987\n",
      "13.194689145077131\n"
     ]
    }
   ],
   "source": [
    "#Bài 2: Nhập vào bán kính của hình tròn. In ra màn hình diện tích và chu vi của nó.\n",
    "import math\n",
    "a=float(input(\"Bán kính hình tròn:\"))\n",
    "dien_tich=math.pi*a**2\n",
    "chu_vi=2*math.pi*a\n",
    "print(dien_tich)\n",
    "print(chu_vi)\n"
   ]
  },
  {
   "cell_type": "code",
   "execution_count": 6,
   "id": "1ae6814d-0cb8-483c-bc67-c770d0bce162",
   "metadata": {},
   "outputs": [
    {
     "name": "stdin",
     "output_type": "stream",
     "text": [
      "Nhập giá trị ba cạnh: 1 2 3\n"
     ]
    },
    {
     "name": "stdout",
     "output_type": "stream",
     "text": [
      "Không là ba cạnh của một tam giác\n"
     ]
    }
   ],
   "source": [
    "#bai3:\n",
    "a,b,c=map(float,input(\"Nhập giá trị ba cạnh:\").split())\n",
    "if a+b>c and a+c>b and b+c>a:\n",
    "    print(\"Là 3 cạnh của một tam giác \")\n",
    "    if a==b==c:\n",
    "        print (\"là tam giác đều\")\n",
    "    elif a==b or b==c or a==c:\n",
    "        print(\"Là tam giác cân\")\n",
    "    elif (abs(a**2 + b**2 - c**2) < 1e-9) or \\\n",
    "         (abs(a**2 + c**2 - b**2) < 1e-9) or \\\n",
    "         (abs(b**2 + c**2 - a**2) < 1e-9):\n",
    "        print(\"Là tam giác vuông\")\n",
    "    else:\n",
    "        print(\"Là tam giác thường\")\n",
    "    chu_vi=a+b+c\n",
    "    print(\"Chu vi=\",chu_vi)\n",
    "    import math\n",
    "    dien_tich=math.sqrt((chu_vi/2)*((chu_vi/2)-a)*((chu_vi/2)-b)*((chu_vi/2)-c))\n",
    "    print(\"Diện tích=\",dien_tich)\n",
    "else:\n",
    "    print(\"Không là ba cạnh của một tam giác\")"
   ]
  },
  {
   "cell_type": "code",
   "execution_count": 10,
   "id": "d77ef837-8611-4679-a464-ff6279104553",
   "metadata": {},
   "outputs": [
    {
     "name": "stdin",
     "output_type": "stream",
     "text": [
      "Nhập các giá trị : 0 2\n"
     ]
    },
    {
     "name": "stdout",
     "output_type": "stream",
     "text": [
      "Phương trình vô nghiệm\n"
     ]
    }
   ],
   "source": [
    "#Bài 4: Viết chương trình giải phương trình bậc 1 (ax + b = 0)  \n",
    "a,b=map(float,input(\"Nhập các giá trị :\").split())\n",
    "if a!=0:\n",
    "    x=-b/a\n",
    "    print(\"Nghiệm của phương trình=\",x)\n",
    "else:\n",
    "    if b==0:\n",
    "        print(\"Phương trình có vô số nghiệm\")\n",
    "    elif b!=0:\n",
    "        print(\"Phương trình vô nghiệm\")"
   ]
  },
  {
   "cell_type": "code",
   "execution_count": 33,
   "id": "f6518fe2-c63f-4adb-ae05-c5dcab85b799",
   "metadata": {},
   "outputs": [
    {
     "name": "stdin",
     "output_type": "stream",
     "text": [
      "Nhập các giá trị cách nhau khoảng trống: 1 2 -1\n"
     ]
    },
    {
     "name": "stdout",
     "output_type": "stream",
     "text": [
      "Phương trình có 2 nghiệm = 0.41421356237309515 và -2.414213562373095\n"
     ]
    }
   ],
   "source": [
    "#Bài 5: Viết chương trình giải phương trình bậc 2 (ax2 + bx + c = 0) \n",
    "import math\n",
    "a,b,c=map(float,input(\"Nhập các giá trị cách nhau khoảng trống:\").split())\n",
    "if a==0:\n",
    "    if b==0:\n",
    "        if c==0:\n",
    "            print(\"Phương trình có vô số nghiệm\")\n",
    "        elif c!=0:\n",
    "            print(\"Phương trình vô nghiệm\")\n",
    "    else:\n",
    "        x=-c/b\n",
    "        print(\"Nghiệm của phương trình=\",x)\n",
    "else:\n",
    "    A=b**2-4*a*c\n",
    "    if A>0:\n",
    "        can_dental=math.sqrt(A)\n",
    "        x1=(-b+can_dental)/(2*a)\n",
    "        x2=(-b-can_dental)/(2*a)\n",
    "        print(\"Phương trình có 2 nghiệm =\",x1 ,\"và\",x2)\n",
    "    elif A==0:\n",
    "        x=-b/(2*a)\n",
    "        print(\"Phương trình có nghiệm kép=\",x)\n",
    "    else:\n",
    "        print(\"Phương trình vô nghiệm\")\n",
    "        \n",
    "        \n",
    "    \n",
    "        "
   ]
  },
  {
   "cell_type": "code",
   "execution_count": 2,
   "id": "76005eae-de89-477e-9513-3bf6716220ea",
   "metadata": {},
   "outputs": [
    {
     "name": "stdin",
     "output_type": "stream",
     "text": [
      "Nhập các giá trị: 1.2 17 21 5.1\n"
     ]
    },
    {
     "name": "stdout",
     "output_type": "stream",
     "text": [
      "Giá trị lớn nhất là: 21.0\n"
     ]
    }
   ],
   "source": [
    "#Bài 6: Tìm giá trị lớn nhất trong 4 số a, b, c, d (a, b, c, được nhập từ bàn phím).\n",
    "a,b,c,d=map(float,input(\"Nhập các giá trị:\").split())\n",
    "max_value=max(a,b,c,d)\n",
    "print(\"Giá trị lớn nhất là:\",max_value)"
   ]
  },
  {
   "cell_type": "code",
   "execution_count": 3,
   "id": "c073def2-ca92-4395-a208-ab95351ea350",
   "metadata": {},
   "outputs": [
    {
     "name": "stdin",
     "output_type": "stream",
     "text": [
      "Nhập các giá trị : 1.2 17 21 5.1\n"
     ]
    },
    {
     "name": "stdout",
     "output_type": "stream",
     "text": [
      "Giá trị nhỏ nhất là: 1.2\n"
     ]
    }
   ],
   "source": [
    "#Bài 7: Tìm giá trị nhỏ nhất trong 4 số a, b, c, d (a, b, c, được nhập từ bàn phím). \n",
    "a,b,c,d=map(float,input(\"Nhập các giá trị :\").split())\n",
    "min_value=min(a,b,c,d)\n",
    "print(\"Giá trị nhỏ nhất là:\",min_value)"
   ]
  },
  {
   "cell_type": "code",
   "execution_count": 1,
   "id": "14c28a96-2690-4c69-8f9f-61d5405c1575",
   "metadata": {},
   "outputs": [
    {
     "name": "stdin",
     "output_type": "stream",
     "text": [
      "Nhập các dữ liệu: 1 2 3 4 5 6\n"
     ]
    },
    {
     "name": "stdout",
     "output_type": "stream",
     "text": [
      "Hệ pt có nghiệm duy nhất x=-4.0 và y=4.5\n"
     ]
    }
   ],
   "source": [
    "#Bài 8:  \n",
    "a,b,c,d,m,n=map(float,input(\"Nhập các dữ liệu:\").split())\n",
    "A=a*d-b*c\n",
    "if A==0:\n",
    "    print(\"Hệ pt vô nghiệm or vô số nghiệm\")\n",
    "else:\n",
    "    Ax=m*d-b*n\n",
    "    Ay=a*n-c*m\n",
    "    print(f\"Hệ pt có nghiệm duy nhất x={Ax/A} và y={Ay/A}\")"
   ]
  },
  {
   "cell_type": "code",
   "execution_count": 2,
   "id": "92e7a8de-7a77-4dae-9451-db88f92c5897",
   "metadata": {},
   "outputs": [
    {
     "name": "stdin",
     "output_type": "stream",
     "text": [
      "Tâm của đường tròn I(x0;y0): 1 2\n",
      "Bán kính của đường tròn: 2\n",
      "Nhập vào một điểm A(x;y) bất kì : 2 3\n"
     ]
    },
    {
     "name": "stdout",
     "output_type": "stream",
     "text": [
      "Điểm A nằm trong đường tròn\n"
     ]
    }
   ],
   "source": [
    "#Bài 10: Nhập vào tâm và bán kính của một đường tròn. Sau đó nhập vào một \n",
    "#điểm A(x, y) bất kì và kiểm tra xem nó có thuộc đường tròn hay không? \n",
    "import math\n",
    "x0,y0=map(float,input(\"Tâm của đường tròn I(x0;y0):\").split())\n",
    "r=float(input(\"Bán kính của đường tròn:\"))\n",
    "x,y=map(float,input(\"Nhập vào một điểm A(x;y) bất kì :\").split())\n",
    "khoang_cach=math.sqrt((x-x0)**2+(y-y0)**2)\n",
    "if khoang_cach >r:\n",
    "    print(\"Điểm A nằm ngoài đường tròn\")\n",
    "elif khoang_cach <r:\n",
    "    print(\"Điểm A nằm trong đường tròn\")\n",
    "else:\n",
    "    print(\"Điểm A thuộc đường tròn\")"
   ]
  },
  {
   "cell_type": "code",
   "execution_count": 7,
   "id": "5efbef57-5ba9-4b03-9f3e-2100f71cb708",
   "metadata": {},
   "outputs": [
    {
     "name": "stdin",
     "output_type": "stream",
     "text": [
      "Nhập vào thời gian theo giây: 2.1\n"
     ]
    },
    {
     "name": "stdout",
     "output_type": "stream",
     "text": [
      "Thời gian công việc theo phút= 126.0 phút\n",
      "Thời gian công việc theo giờ= 7560.0 giờ\n"
     ]
    }
   ],
   "source": [
    "#3Bài 9: Nhập vào thời gian 1 công việc nào đó là x giây. Hãy chuyển đổi và viết \n",
    "#ra màn hình số thời gian trên dưới dạng bằng bao nhiêu giờ, bao nhiêu phút, bao \n",
    "#nhiêu giây\n",
    "x=float(input(\"Nhập vào thời gian theo giây:\"))\n",
    "theo_phut=x*60\n",
    "theo_gio=x*3600\n",
    "print(\"Thời gian công việc theo phút=\",theo_phut,\"phút\")\n",
    "print(\"Thời gian công việc theo giờ=\",theo_gio,\"giờ\")"
   ]
  },
  {
   "cell_type": "code",
   "execution_count": 1,
   "id": "638fe652-045b-4b4b-9600-298d22aa979a",
   "metadata": {},
   "outputs": [
    {
     "name": "stdin",
     "output_type": "stream",
     "text": [
      "Nhập vào giá trị x,y: 0 -1\n"
     ]
    },
    {
     "name": "stdout",
     "output_type": "stream",
     "text": [
      "Không tồn tại\n"
     ]
    }
   ],
   "source": [
    "#Bài 11: Tính x**y (Với x, y là số thực). \n",
    "x,y=map(float,input(\"Nhập vào giá trị x,y:\").split())   \n",
    "if x==0:\n",
    "    if y>0:\n",
    "        print(\"Kết quả =\",x**y)\n",
    "    else:\n",
    "        print(\"Không tồn tại\")\n",
    "else:\n",
    "    print(\"Kết quả=\",x**y)\n",
    "    \n",
    " "
   ]
  }
 ],
 "metadata": {
  "kernelspec": {
   "display_name": "Python 3 (ipykernel)",
   "language": "python",
   "name": "python3"
  },
  "language_info": {
   "codemirror_mode": {
    "name": "ipython",
    "version": 3
   },
   "file_extension": ".py",
   "mimetype": "text/x-python",
   "name": "python",
   "nbconvert_exporter": "python",
   "pygments_lexer": "ipython3",
   "version": "3.13.7"
  }
 },
 "nbformat": 4,
 "nbformat_minor": 5
}
